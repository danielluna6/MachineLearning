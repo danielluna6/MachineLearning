{
 "cells": [
  {
   "cell_type": "markdown",
   "metadata": {},
   "source": [
    "Projeto 1 -  Regressão Linear \n",
    "-------------------------------------------\n",
    "\n",
    "Disciplina EEC1509 - APRENDIZAGEM DE MÁQUINA - 2018.2 \n",
    "Aluno: Daniel Rodrigues de Luna - 20181023569\n",
    "\n",
    "Tema Escolhido:\n",
    "------------------------\n",
    "\n",
    "Is there a relationship between the daily minimum and maximum temperature? Can you predict the maximum temperature given the minimum temperature?\n",
    "\n",
    "Source: https://www.kaggle.com/smid80/weatherww2/data\n"
   ]
  },
  {
   "cell_type": "code",
   "execution_count": 2,
   "metadata": {},
   "outputs": [],
   "source": [
    "#Importando bibliotecas\n",
    "import numpy as np\n",
    "import pandas as pd\n",
    "import matplotlib.pyplot as plt\n",
    "import seaborn as sns\n",
    "%matplotlib inline\n"
   ]
  },
  {
   "cell_type": "code",
   "execution_count": null,
   "metadata": {},
   "outputs": [],
   "source": []
  }
 ],
 "metadata": {
  "kernelspec": {
   "display_name": "Python 3",
   "language": "python",
   "name": "python3"
  },
  "language_info": {
   "codemirror_mode": {
    "name": "ipython",
    "version": 3
   },
   "file_extension": ".py",
   "mimetype": "text/x-python",
   "name": "python",
   "nbconvert_exporter": "python",
   "pygments_lexer": "ipython3",
   "version": "3.6.5"
  }
 },
 "nbformat": 4,
 "nbformat_minor": 2
}
